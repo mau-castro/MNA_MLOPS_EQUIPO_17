{
 "cells": [
  {
   "cell_type": "code",
   "execution_count": 11,
   "metadata": {},
   "outputs": [],
   "source": [
    "import mlflow\n",
    "from sklearn.model_selection import train_test_split\n",
    "from sklearn.preprocessing import StandardScaler\n",
    "from sklearn.metrics import accuracy_score, precision_score, recall_score, f1_score\n",
    "import pandas as pd"
   ]
  },
  {
   "cell_type": "code",
   "execution_count": 12,
   "metadata": {},
   "outputs": [],
   "source": [
    "\n",
    "def load_model(run_id):\n",
    "    logged_model = f'runs:/{run_id}/models'\n",
    "    return mlflow.sklearn.load_model(logged_model)\n",
    "\n"
   ]
  },
  {
   "cell_type": "code",
   "execution_count": 13,
   "metadata": {},
   "outputs": [],
   "source": [
    "# Example usage\n",
    "loaded_model = load_model(\"060b5b430a084bfba8812bc5c69645a0\")\n"
   ]
  },
  {
   "cell_type": "code",
   "execution_count": 14,
   "metadata": {},
   "outputs": [
    {
     "name": "stdout",
     "output_type": "stream",
     "text": [
      "Model Parameters:\n",
      "C: 1.0\n",
      "Random State: 42\n",
      "Solver: liblinear\n",
      "Model Coefficients: [[ 0.09898721  1.22216618  0.30932479 -3.43636727  0.55497626  0.12227555\n",
      "  -1.03335779  0.16999761  0.34969326 -0.09973497  0.34875347 -0.29967754\n",
      "   0.66240804 -0.60196647 -0.07575172  0.08619422 -0.32010781  0.16133891\n",
      "  -0.2420158   0.25790901  0.49468853]]\n",
      "Model Intercept: [-2.06080142]\n",
      "Number of iterations: [7]\n"
     ]
    }
   ],
   "source": [
    "print(\"Model Parameters:\")\n",
    "print(\"C:\", loaded_model.C) # Regularization parameter\n",
    "print(\"Random State:\", loaded_model.random_state) # Random state\n",
    "print(\"Solver:\", loaded_model.solver) # Optimization algorithm\n",
    "\n",
    "print(\"Model Coefficients:\", loaded_model.coef_) # Coefficients\n",
    "print(\"Model Intercept:\", loaded_model.intercept_)# Intercept \n",
    "print(\"Number of iterations:\", loaded_model.n_iter_)# Number of iterations"
   ]
  },
  {
   "cell_type": "code",
   "execution_count": 15,
   "metadata": {},
   "outputs": [],
   "source": [
    "data_df = pd.read_csv(r\"../../data/processed/TCGA_GBM_LGG_Mutations_clean_v2.csv\") #change path when testing\n",
    "X=data_df.drop([\"Grade\"], axis=1)\n",
    "y=data_df[\"Grade\"]\n",
    "\n",
    "X_train, X_test, y_train, y_test = train_test_split(X, y, test_size=0.3, random_state=42)\n",
    "scaler = StandardScaler()\n",
    "X_train_scaled = scaler.fit_transform(X_train)\n",
    "X_test_scaled = scaler.transform(X_test)"
   ]
  },
  {
   "cell_type": "code",
   "execution_count": null,
   "metadata": {},
   "outputs": [
    {
     "name": "stdout",
     "output_type": "stream",
     "text": [
      "Accuracy: 0.9418604651162791\n",
      "Precision: 0.9436690310265764\n",
      "Recall: 0.9418604651162791\n",
      "F1 Score: 0.9420655851248035\n"
     ]
    }
   ],
   "source": [
    "# Predecir en el conjunto de prueba\n",
    "y_pred = loaded_model.predict(X_test_scaled)\n",
    "\n",
    "# Calcular las métricas\n",
    "accuracy = accuracy_score(y_test, y_pred)\n",
    "precision = precision_score(y_test, y_pred, average='weighted')\n",
    "recall = recall_score(y_test, y_pred, average='weighted')\n",
    "f1 = f1_score(y_test, y_pred, average='weighted')\n",
    "\n",
    "print(f\"Accuracy: {accuracy}\")\n",
    "print(f\"Precision: {precision}\")\n",
    "print(f\"Recall: {recall}\")\n",
    "print(f\"F1 Score: {f1}\")"
   ]
  }
 ],
 "metadata": {
  "kernelspec": {
   "display_name": "Python 3",
   "language": "python",
   "name": "python3"
  },
  "language_info": {
   "codemirror_mode": {
    "name": "ipython",
    "version": 3
   },
   "file_extension": ".py",
   "mimetype": "text/x-python",
   "name": "python",
   "nbconvert_exporter": "python",
   "pygments_lexer": "ipython3",
   "version": "3.10.6"
  }
 },
 "nbformat": 4,
 "nbformat_minor": 2
}
