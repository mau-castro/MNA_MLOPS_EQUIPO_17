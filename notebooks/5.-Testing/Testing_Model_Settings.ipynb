{
 "cells": [
  {
   "cell_type": "code",
   "execution_count": 1,
   "metadata": {},
   "outputs": [],
   "source": [
    "# Importar las bibliotecas necesarias\n",
    "\n",
    "import pandas as pd\n",
    "import numpy as np\n",
    "\n",
    "from sklearn import datasets\n",
    "from sklearn.linear_model import LogisticRegression\n",
    "from sklearn.model_selection import train_test_split\n",
    "\n",
    "import pytest\n",
    "import ipytest\n",
    "ipytest.autoconfig()  # Configurar ipytest para usar pytest en Jupyter Notebook"
   ]
  },
  {
   "cell_type": "code",
   "execution_count": 2,
   "metadata": {},
   "outputs": [],
   "source": [
    "# Leer el dataset desde un archivo CSV\n",
    "dataset = pd.read_csv(r\"../../data/processed/TCGA_GBM_LGG_Mutations_clean_v2.csv\") # cambiar la ruta al probar\n",
    "\n",
    "# Crear un DataFrame a partir del dataset leído\n",
    "dataset_df = pd.DataFrame(dataset, columns=dataset.columns)\n",
    "\n",
    "# Convertir la columna \"Grade\" a tipo categórico\n",
    "dataset_df[\"Grade\"] = dataset_df[\"Grade\"].astype('category')"
   ]
  },
  {
   "cell_type": "code",
   "execution_count": 3,
   "metadata": {},
   "outputs": [],
   "source": [
    "class SimplePipeline:\n",
    "    def __init__(self):\n",
    "        self.frame = None\n",
    "        self.X_train, self.X_test, self.y_train, self.y_test = None, None, None, None\n",
    "        self.model = None\n",
    "        self.load_dataset()\n",
    "    \n",
    "    def load_dataset(self):\n",
    "        \"\"\"Carga el dataset y realiza la división en conjuntos de entrenamiento y prueba.\"\"\"\n",
    "        dataset = pd.read_csv(r\"../../data/processed/TCGA_GBM_LGG_Mutations_clean_v2.csv\") # cambiar la ruta al probar\n",
    "        self.frame = pd.DataFrame(dataset, columns=dataset.columns)\n",
    "        self.frame[\"Grade\"] = self.frame[\"Grade\"].astype('category')  # Convertir la columna \"Grade\" a tipo categórico\n",
    "        \n",
    "        # Obtener los nombres de las características excluyendo la columna 'Grade'\n",
    "        feature_names = [col for col in self.frame.columns if col != 'Grade']\n",
    "        \n",
    "        # Dividir el dataset en conjuntos de entrenamiento y prueba\n",
    "        self.X_train, self.X_test, self.y_train, self.y_test = train_test_split(\n",
    "            self.frame[feature_names], self.frame['Grade'], test_size=0.65, random_state=42)\n",
    "        \n",
    "    def train(self, algorithm=LogisticRegression):\n",
    "        \"\"\"Entrenar el modelo usando el algoritmo especificado (por defecto LogisticRegression).\"\"\"\n",
    "        self.model = algorithm(solver='lbfgs', multi_class='auto')\n",
    "        self.model.fit(self.X_train, self.y_train)\n",
    "        \n",
    "    def predict(self, input_data):\n",
    "        \"\"\"Realizar predicciones usando el modelo entrenado.\"\"\"\n",
    "        return self.model.predict(input_data)\n",
    "        \n",
    "    def get_accuracy(self):\n",
    "        \"\"\"Obtener la precisión del modelo en el conjunto de prueba.\"\"\"\n",
    "        return self.model.score(X=self.X_test, y=self.y_test)\n",
    "    \n",
    "    def run_pipeline(self):\n",
    "        \"\"\"Método de ejecución para correr el pipeline varias veces.\"\"\"\n",
    "        self.load_dataset()\n",
    "        self.train()"
   ]
  },
  {
   "cell_type": "code",
   "execution_count": 4,
   "metadata": {},
   "outputs": [],
   "source": [
    "class PipelineWithConfig(SimplePipeline):\n",
    "    def __init__(self, config):\n",
    "        # Llamar primero al método __init__ de la clase heredada SimplePipeline.\n",
    "        super().__init__()\n",
    "        # Pasamos un objeto de configuración que se usará en el entrenamiento.\n",
    "        # Esto se conoce como Inyección de Dependencias.\n",
    "        self.config = config\n",
    "            \n",
    "    def train(self, algorithm=LogisticRegression):\n",
    "        # Inicializamos el clasificador LogisticRegression con los parámetros de la configuración del pipeline.\n",
    "        self.model = algorithm(solver=self.config.get('solver'),\n",
    "                               multi_class=self.config.get('multi_class'))\n",
    "        self.model.fit(self.X_train, self.y_train)"
   ]
  },
  {
   "cell_type": "markdown",
   "metadata": {},
   "source": [
    "Testeo"
   ]
  },
  {
   "cell_type": "code",
   "execution_count": 5,
   "metadata": {},
   "outputs": [],
   "source": [
    "@pytest.fixture\n",
    "def pipeline():\n",
    "    # Crear una configuración para el modelo\n",
    "    config = {'solver': 'lbfgs', 'multi_class': 'auto'}\n",
    "    \n",
    "    # Crear una instancia del pipeline con la configuración especificada\n",
    "    pl = PipelineWithConfig(config=config)\n",
    "    \n",
    "    # Ejecutar el pipeline (cargar el dataset y entrenar el modelo)\n",
    "    pl.run_pipeline()\n",
    "    \n",
    "    # Devolver la instancia del pipeline\n",
    "    return pl"
   ]
  },
  {
   "cell_type": "code",
   "execution_count": 7,
   "metadata": {},
   "outputs": [
    {
     "name": "stdout",
     "output_type": "stream",
     "text": [
      "\u001b[32m.\u001b[0m\u001b[32m                                                                                            [100%]\u001b[0m\n",
      "\u001b[32m\u001b[32m\u001b[1m1 passed\u001b[0m\u001b[32m in 0.06s\u001b[0m\u001b[0m\n"
     ]
    }
   ],
   "source": [
    "%%ipytest\n",
    "\n",
    "# Definir un conjunto de solvers habilitados para el modelo\n",
    "ENABLED_MODEL_SOLVERS = {'newton-cg', 'lbfgs'}\n",
    "\n",
    "def test_pipeline_config(pipeline):\n",
    "    # Obtener los parámetros de configuración del modelo\n",
    "    model_params = pipeline.model.get_params()\n",
    "\n",
    "    # Comparar el solver del modelo con los solvers habilitados\n",
    "    assert model_params['solver'] in ENABLED_MODEL_SOLVERS\n",
    "    # assert False, repr(model_params)"
   ]
  }
 ],
 "metadata": {
  "kernelspec": {
   "display_name": "Python 3",
   "language": "python",
   "name": "python3"
  },
  "language_info": {
   "codemirror_mode": {
    "name": "ipython",
    "version": 3
   },
   "file_extension": ".py",
   "mimetype": "text/x-python",
   "name": "python",
   "nbconvert_exporter": "python",
   "pygments_lexer": "ipython3",
   "version": "3.10.6"
  }
 },
 "nbformat": 4,
 "nbformat_minor": 2
}
